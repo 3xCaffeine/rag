{
 "cells": [
  {
   "cell_type": "code",
   "execution_count": 1,
   "metadata": {},
   "outputs": [
    {
     "name": "stderr",
     "output_type": "stream",
     "text": [
      "d:\\Github\\rag\\ingestion-pipeline\\.venv\\Lib\\site-packages\\tqdm\\auto.py:21: TqdmWarning: IProgress not found. Please update jupyter and ipywidgets. See https://ipywidgets.readthedocs.io/en/stable/user_install.html\n",
      "  from .autonotebook import tqdm as notebook_tqdm\n",
      "None of PyTorch, TensorFlow >= 2.0, or Flax have been found. Models won't be available and only tokenizers, configuration and file/data utilities can be used.\n"
     ]
    }
   ],
   "source": [
    "from dotenv import load_dotenv\n",
    "import os\n",
    "from llama_index.core import (\n",
    "    VectorStoreIndex,\n",
    "    SimpleDirectoryReader,\n",
    "    StorageContext,\n",
    ")\n",
    "from llama_index.embeddings.ollama import OllamaEmbedding\n",
    "from llama_index.vector_stores.astra_db import AstraDBVectorStore\n",
    "\n",
    "from llama_index.llms.groq import Groq"
   ]
  },
  {
   "cell_type": "code",
   "execution_count": 2,
   "metadata": {},
   "outputs": [],
   "source": [
    "load_dotenv()\n",
    "\n",
    "astra_api_endpoint = os.getenv('ASTRA_DB_ENDPOINT')\n",
    "astra_db_token = os.getenv('ASTRA_DB_TOKEN')\n",
    "groq_api_token = os.getenv('GROQ_API_TOKEN')\n",
    "\n",
    "# Validate that all required environment variables are present\n",
    "if not all([astra_api_endpoint, astra_db_token, groq_api_token]):\n",
    "    raise ValueError(\"Missing required environment variables. Please check your .env file\")"
   ]
  },
  {
   "cell_type": "code",
   "execution_count": 3,
   "metadata": {},
   "outputs": [
    {
     "name": "stdout",
     "output_type": "stream",
     "text": [
      "Total documents: 1570\n",
      "First document, id: 71a7d1ce-2d6e-4eac-af07-0847a2182e5e\n",
      "First document, hash: e3b0c44298fc1c149afbf4c8996fb92427ae41e4649b934ca495991b7852b855\n",
      "First document, text (0 characters):\n",
      "====================\n",
      " ...\n"
     ]
    }
   ],
   "source": [
    "# load documents\n",
    "documents = SimpleDirectoryReader(\"./data/medical/\").load_data(num_workers=10)\n",
    "print(f\"Total documents: {len(documents)}\")\n",
    "print(f\"First document, id: {documents[0].doc_id}\")\n",
    "print(f\"First document, hash: {documents[0].hash}\")\n",
    "print(\n",
    "    \"First document, text\"\n",
    "    f\" ({len(documents[0].text)} characters):\\n{'='*20}\\n{documents[0].text[:360]} ...\"\n",
    ")"
   ]
  },
  {
   "cell_type": "code",
   "execution_count": 5,
   "metadata": {},
   "outputs": [],
   "source": [
    "astra_db_store = AstraDBVectorStore(\n",
    "    token=astra_db_token,\n",
    "    api_endpoint=astra_api_endpoint,\n",
    "    collection_name=\"medical_collections\",\n",
    "    embedding_dimension=768,\n",
    ")"
   ]
  },
  {
   "cell_type": "code",
   "execution_count": 6,
   "metadata": {},
   "outputs": [],
   "source": [
    "embed_model = OllamaEmbedding(model_name=\"nomic-embed-text\")\n",
    "\n",
    "storage_context = StorageContext.from_defaults(vector_store=astra_db_store)\n",
    "\n",
    "index = VectorStoreIndex.from_documents(\n",
    "    documents, storage_context=storage_context, embed_model=embed_model\n",
    ")"
   ]
  },
  {
   "cell_type": "code",
   "execution_count": 7,
   "metadata": {},
   "outputs": [
    {
     "name": "stdout",
     "output_type": "stream",
     "text": [
      "<think>\n",
      "Okay, I need to answer the query \"A BRIEF REVIEW OF THE VERTEBRAL COLUMN\" using the provided context information without referencing it directly. Let me go through the context step by step.\n",
      "\n",
      "First, looking at page 135 from Snell's Neuroanatomy, it lists the different sections of the vertebral column: cervical (7 vertebrae), thoracic (12), lumbar (5), sacral (5 fused), and coccygeal (4 fused). It also mentions the curves—cervical, thoracic, lumbar, sacral. So I should include the number of vertebrae and the curves.\n",
      "\n",
      "Next, the context describes various parts of the vertebrae, like the vertebral foramen, lamina, pedicle, transverse process, body, etc. It also talks about the ligaments: anterior and posterior longitudinal ligaments, their attachments, and strengths. I should summarize these structural components and the ligaments.\n",
      "\n",
      "The second context from page 114 discusses the spinal cord's cell columns, but since the query is about the vertebral column, I can focus on the first context. However, I should avoid mentioning the spinal cord details unless relevant, which they aren't here.\n",
      "\n",
      "Putting it all together, I'll structure the answer to include the regions, their vertebrae counts, the curves, key structural features, and the ligaments. I'll make sure not to reference the context directly and keep it concise as per the query's request for a brief review.\n",
      "</think>\n",
      "\n",
      "The vertebral column is composed of five regions: cervical (7 vertebrae), thoracic (12 vertebrae), lumbar (5 vertebrae), sacral (5 fused vertebrae), and coccygeal (4 fused vertebrae). It has four main curves: cervical, thoracic, lumbar, and sacral. Key structural features of vertebrae include the vertebral foramen, lamina, pedicle, transverse process, and body. The anterior longitudinal ligament is wide and strongly attached to the front and sides of vertebral bodies and intervertebral discs, while the posterior longitudinal ligament is weaker and narrower, attaching to the posterior borders of the discs.\n"
     ]
    }
   ],
   "source": [
    "llm = Groq(model=\"deepseek-r1-distill-llama-70b\", api_key=groq_api_token)\n",
    "\n",
    "query_engine = index.as_query_engine(llm=llm)\n",
    "response = query_engine.query(\"A BRIEF REVIEW OF THE VERTEBRAL COLUMN\")\n",
    "\n",
    "print(response.response)"
   ]
  },
  {
   "cell_type": "code",
   "execution_count": 8,
   "metadata": {},
   "outputs": [
    {
     "name": "stdout",
     "output_type": "stream",
     "text": [
      "<think>\n",
      "Okay, I need to explain the cranial cavity in great detail using the provided context. Let me start by looking through the context information.\n",
      "\n",
      "First, I see that the cranial cavity is mentioned in page 83 as the location of the brain. It's part of the central nervous system along with the spinal cord, which is in the vertebral canal. The CNS is protected by the skull, vertebral canal, meninges, and cerebrospinal fluid.\n",
      "\n",
      "Looking at page 246, the cerebrum is described as filling most of the cranial cavity. It's the largest part of the brain, with two cerebral hemispheres connected by the corpus callosum. The longitudinal cerebral fissure separates the hemispheres and contains structures like the falx cerebri, arachnoid fold, pia mater, and blood vessels.\n",
      "\n",
      "I should structure the answer to cover the structure, contents, protection mechanisms, and functions. I'll mention the bones forming the cranial cavity, the meninges layers, the CSF, and the brain's composition of grey and white matter.\n",
      "\n",
      "I need to avoid referencing the context directly, so I'll paraphrase the information. I'll explain each part clearly, ensuring it's detailed but understandable.\n",
      "</think>\n",
      "\n",
      "The cranial cavity is a complex anatomical structure that houses the brain, a crucial component of the central nervous system (CNS). It is located within the skull and serves as a protective enclosure for the delicate neural tissues. The cranial cavity is not just a passive container; it is an integral part of the CNS, providing a safe environment for the brain to function optimally.\n",
      "\n",
      "### Structure of the Cranial Cavity\n",
      "\n",
      "The cranial cavity is formed by the bones of the skull, which create a sturdy yet lightweight enclosure. The inner surface of the cranial cavity is lined with meninges, a protective layer of connective tissue that cushions the brain and prevents mechanical injury. The meninges consist of three layers: the dura mater (outermost), arachnoid mater (middle), and pia mater (innermost). These layers, along with the cerebrospinal fluid (CSF), play a crucial role in protecting the brain from trauma and maintaining a stable internal environment.\n",
      "\n",
      "### Contents of the Cranial Cavity\n",
      "\n",
      "The cranial cavity contains the brain, which is divided into several regions, including the cerebrum, cerebellum, and brainstem. The cerebrum, the largest part of the brain, is responsible for higher-order functions such as thought, emotion, and voluntary movement. It is divided into two cerebral hemispheres, which are connected by the corpus callosum, a large mass of white matter that facilitates communication between the hemispheres.\n",
      "\n",
      "The cerebrum is characterized by its heavily convoluted surface, with numerous folds (gyri) and grooves (sulci) that increase the surface area available for neural processing. The cerebral cortex, the outer layer of the cerebrum, is composed of grey matter, which contains the cell bodies of neurons. Beneath the cortex lies the white matter, which consists of myelinated nerve fibers that transmit signals throughout the brain and to other parts of the body.\n",
      "\n",
      "### Protection and Support\n",
      "\n",
      "The cranial cavity is equipped with several mechanisms to protect the brain. The bones of the skull provide a hard outer shell that absorbs and distributes external forces, reducing the risk of injury to the brain. The meninges, particularly the dura mater, act as a protective membrane that adheres to the inner surface of the skull, further cushioning the brain.\n",
      "\n",
      "Cerebrospinal fluid (CSF) plays a critical role in maintaining the internal environment of the cranial cavity. CSF is produced by the choroid plexus in the ventricles of the brain and circulates through the subarachnoid space, surrounding the brain and spinal cord. It acts as a shock absorber, cushions the brain during sudden movements, and helps to regulate the pressure within the cranial cavity. Additionally, CSF facilitates the removal of waste products from the brain, contributing to the maintenance of neural health.\n",
      "\n",
      "### Blood Supply and Function\n",
      "\n",
      "The cranial cavity is richly supplied with blood vessels that provide oxygen and nutrients to the brain. The anterior cerebral arteries and veins, along with other major cerebral arteries, run through the subarachnoid space and penetrate the brain tissue to supply the various regions of the cerebrum. The blood-brain barrier, a specialized system of tight junctions between endothelial cells in the brain's capillaries, regulates the passage of substances from the bloodstream into the brain, ensuring that only essential nutrients and oxygen reach the neural tissue.\n",
      "\n",
      "### Summary\n",
      "\n",
      "The cranial cavity is a sophisticated anatomical structure that houses the brain, protecting it from mechanical injury and maintaining a stable internal environment. The meninges, cerebrospinal fluid, and blood supply all work together to ensure the brain functions optimally. The cerebrum, with its highly convoluted surface and distinct layers of grey and white matter, is the most prominent structure within the cranial cavity, responsible for the highest-order functions that define human cognition and behavior.\n"
     ]
    }
   ],
   "source": [
    "llm = Groq(model=\"deepseek-r1-distill-llama-70b\", api_key=groq_api_token)\n",
    "\n",
    "query_engine = index.as_query_engine(llm=llm)\n",
    "response = query_engine.query(\"explain in great detail the cranial cavity\")\n",
    "\n",
    "print(response.response)"
   ]
  }
 ],
 "metadata": {
  "kernelspec": {
   "display_name": ".venv",
   "language": "python",
   "name": "python3"
  },
  "language_info": {
   "codemirror_mode": {
    "name": "ipython",
    "version": 3
   },
   "file_extension": ".py",
   "mimetype": "text/x-python",
   "name": "python",
   "nbconvert_exporter": "python",
   "pygments_lexer": "ipython3",
   "version": "3.12.8"
  }
 },
 "nbformat": 4,
 "nbformat_minor": 2
}
