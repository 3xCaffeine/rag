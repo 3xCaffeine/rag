{
 "cells": [
  {
   "cell_type": "code",
   "execution_count": null,
   "metadata": {},
   "outputs": [],
   "source": [
    "from dotenv import load_dotenv\n",
    "import os\n",
    "from llama_index.core import (\n",
    "    VectorStoreIndex,\n",
    "    SimpleDirectoryReader,\n",
    "    StorageContext,\n",
    ")\n",
    "from llama_index.embeddings.ollama import OllamaEmbedding\n",
    "from llama_index.vector_stores.astra_db import AstraDBVectorStore\n",
    "\n",
    "from llama_index.llms.groq import Groq"
   ]
  },
  {
   "cell_type": "code",
   "execution_count": 2,
   "metadata": {},
   "outputs": [],
   "source": [
    "os.environ[\"TRANSFORMERS_NO_ADVISORY_WARNINGS\"] = \"1\"\n",
    "\n",
    "load_dotenv()\n",
    "\n",
    "astra_api_endpoint = os.getenv(\"ASTRA_DB_ENDPOINT\")\n",
    "astra_db_token = os.getenv(\"ASTRA_DB_TOKEN\")\n",
    "groq_api_token = os.getenv(\"GROQ_API_TOKEN\")\n",
    "\n",
    "# Validate that all required environment variables are present\n",
    "if not all([astra_api_endpoint, astra_db_token, groq_api_token]):\n",
    "    raise ValueError(\n",
    "        \"Missing required environment variables. Please check your .env file\"\n",
    "    )"
   ]
  },
  {
   "cell_type": "code",
   "execution_count": null,
   "metadata": {},
   "outputs": [
    {
     "name": "stdout",
     "output_type": "stream",
     "text": [
      "Total documents: 9\n",
      "First document, id: a1a8887e-cccc-4575-bf2e-5a37ef5346ea\n",
      "First document, hash: 881f20b1d98203aa43022626abbacda8eac242f047fcc468659e6470aad6a965\n",
      "First document, text (23 characters):\n",
      "====================\n",
      "LIVER  \n",
      "HEALTH  \n",
      "BASICS ...\n"
     ]
    }
   ],
   "source": [
    "# load documents\n",
    "documents = SimpleDirectoryReader(\"./data/paul_graham/\").load_data(num_workers=10)\n",
    "print(f\"Total documents: {len(documents)}\")\n",
    "print(f\"First document, id: {documents[0].doc_id}\")\n",
    "print(f\"First document, hash: {documents[0].hash}\")\n",
    "print(\n",
    "    \"First document, text\"\n",
    "    f\" ({len(documents[0].text)} characters):\\n{'='*20}\\n{documents[0].text[:360]} ...\"\n",
    ")"
   ]
  },
  {
   "cell_type": "code",
   "execution_count": 4,
   "metadata": {},
   "outputs": [],
   "source": [
    "astra_db_store = AstraDBVectorStore(\n",
    "    token=astra_db_token,\n",
    "    api_endpoint=astra_api_endpoint,\n",
    "    collection_name=\"medical_collections\",\n",
    "    embedding_dimension=768,\n",
    ")"
   ]
  },
  {
   "cell_type": "code",
   "execution_count": null,
   "metadata": {},
   "outputs": [],
   "source": [
    "embed_model = OllamaEmbedding(model_name=\"nomic-embed-text\", base_url=\"http://localhost:11434\",)\n",
    "\n",
    "storage_context = StorageContext.from_defaults(vector_store=astra_db_store)\n",
    "\n",
    "index = VectorStoreIndex.from_documents(\n",
    "    documents, storage_context=storage_context, embed_model=embed_model\n",
    ")"
   ]
  },
  {
   "cell_type": "code",
   "execution_count": null,
   "metadata": {},
   "outputs": [
    {
     "name": "stdout",
     "output_type": "stream",
     "text": [
      "<think>\n",
      "Okay, I need to answer the query \"A BRIEF REVIEW OF THE FATTY LIVER DISEASE\" using only the provided context information. Let me go through the context step by step.\n",
      "\n",
      "Looking at the context, I see that on page 4, there's a mention of \"Hepatitis and/or Fatty Liver\" under the different types of liver disease. However, the context doesn't provide detailed information about fatty liver disease itself. It talks about other conditions like hepatitis, fibrosis, cirrhosis, and liver cancer, but not specifically about fatty liver.\n",
      "\n",
      "I should check if there's any indirect information. On page 6, there's a section about liver cancer drivers and factors, which includes \"Diabetes & Obesity\" and \"NASH\" (Non-Alcoholic Steatohepatitis Hepatitis), which is related to fatty liver. But again, the context doesn't explicitly discuss fatty liver disease in detail.\n",
      "\n",
      "Since the context doesn't provide a specific section or detailed information about fatty liver disease, I can't form a detailed answer. Therefore, the answer should state that the context doesn't offer a review of fatty liver disease.\n",
      "</think>\n",
      "\n",
      "The context provided does not offer a detailed review of fatty liver disease. It mentions \"Hepatitis and/or Fatty Liver\" as a type of liver disease but does not elaborate further on fatty liver disease specifically.\n"
     ]
    }
   ],
   "source": [
    "llm = Groq(model=\"deepseek-r1-distill-llama-70b\", api_key=groq_api_token)\n",
    "\n",
    "query_engine = index.as_query_engine(llm=llm)\n",
    "response = query_engine.query(\"A BRIEF REVIEW OF THE ESSAY\")\n",
    "\n",
    "print(response.response)"
   ]
  }
 ],
 "metadata": {
  "kernelspec": {
   "display_name": ".venv",
   "language": "python",
   "name": "python3"
  },
  "language_info": {
   "codemirror_mode": {
    "name": "ipython",
    "version": 3
   },
   "file_extension": ".py",
   "mimetype": "text/x-python",
   "name": "python",
   "nbconvert_exporter": "python",
   "pygments_lexer": "ipython3",
   "version": "3.12.10"
  }
 },
 "nbformat": 4,
 "nbformat_minor": 2
}
