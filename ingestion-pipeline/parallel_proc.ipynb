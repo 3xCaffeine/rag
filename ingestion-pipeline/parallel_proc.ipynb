{
 "cells": [
  {
   "cell_type": "code",
   "execution_count": 2,
   "metadata": {},
   "outputs": [],
   "source": [
    "import cProfile\n",
    "import pstats\n",
    "from pstats import SortKey\n",
    "from llama_index.core import SimpleDirectoryReader\n",
    "\n",
    "# define our reader with the directory containing the 32 pdf files\n",
    "reader = SimpleDirectoryReader(input_dir=\"./data/medical\")"
   ]
  },
  {
   "cell_type": "code",
   "execution_count": 2,
   "metadata": {},
   "outputs": [
    {
     "data": {
      "text/plain": [
       "1570"
      ]
     },
     "execution_count": 2,
     "metadata": {},
     "output_type": "execute_result"
    }
   ],
   "source": [
    "documents = reader.load_data()\n",
    "len(documents)"
   ]
  },
  {
   "cell_type": "code",
   "execution_count": 3,
   "metadata": {},
   "outputs": [
    {
     "name": "stdout",
     "output_type": "stream",
     "text": [
      "Sun Feb  2 00:37:06 2025    oldstats\n",
      "\n",
      "         426622510 function calls (425277840 primitive calls) in 167.728 seconds\n",
      "\n",
      "   Ordered by: cumulative time\n",
      "   List reduced from 416 to 15 due to restriction <15>\n",
      "\n",
      "   ncalls  tottime  percall  cumtime  percall filename:lineno(function)\n",
      "        3    0.000    0.000  167.726   55.909 __init__.py:465(__call__)\n",
      "        3    0.027    0.009  167.726   55.909 base.py:36(load_data)\n",
      "     1570    0.403    0.000  148.624    0.095 _page.py:2266(extract_text)\n",
      "     1570    2.234    0.001  145.237    0.093 _page.py:1822(_extract_text)\n",
      "     1569    0.004    0.000  107.231    0.068 _data_structures.py:1418(operations)\n",
      "     1569   13.472    0.009  107.142    0.068 _data_structures.py:1294(_parse_content_stream)\n",
      "9945237/8811451   16.967    0.000   81.983    0.000 _data_structures.py:1446(read_object)\n",
      "  8308637    7.003    0.000   39.119    0.000 _base.py:566(read_from_stream)\n",
      " 12142295   23.257    0.000   36.893    0.000 _utils.py:218(read_until_regex)\n",
      "  4017881    4.299    0.000   28.404    0.000 _page.py:1908(process_operation)\n",
      "       36    0.346    0.010   18.931    0.526 base_events.py:1915(_run_once)\n",
      "  1301123    1.477    0.000   13.401    0.000 _page.py:1786(_handle_tj)\n",
      " 16515111    8.115    0.000   11.339    0.000 _utils.py:157(read_non_whitespace)\n",
      "  2184363    5.572    0.000   10.214    0.000 __init__.py:90(crlf_space_check)\n",
      "76263/76138    1.558    0.000    9.592    0.000 _data_structures.py:239(read_from_stream)\n",
      "\n",
      "\n"
     ]
    },
    {
     "data": {
      "text/plain": [
       "<pstats.Stats at 0x2db29b68710>"
      ]
     },
     "execution_count": 3,
     "metadata": {},
     "output_type": "execute_result"
    }
   ],
   "source": [
    "cProfile.run(\"reader.load_data()\", \"oldstats\")\n",
    "p = pstats.Stats(\"oldstats\")\n",
    "p.strip_dirs().sort_stats(SortKey.CUMULATIVE).print_stats(15)"
   ]
  },
  {
   "cell_type": "code",
   "execution_count": 3,
   "metadata": {},
   "outputs": [],
   "source": [
    "documents = reader.load_data(num_workers=10)"
   ]
  },
  {
   "cell_type": "code",
   "execution_count": 4,
   "metadata": {},
   "outputs": [
    {
     "data": {
      "text/plain": [
       "1570"
      ]
     },
     "execution_count": 4,
     "metadata": {},
     "output_type": "execute_result"
    }
   ],
   "source": [
    "len(documents)"
   ]
  },
  {
   "cell_type": "code",
   "execution_count": 5,
   "metadata": {},
   "outputs": [
    {
     "name": "stdout",
     "output_type": "stream",
     "text": [
      "Sun Feb  2 00:40:48 2025    newstats\n",
      "\n",
      "         29114 function calls (29038 primitive calls) in 22.829 seconds\n",
      "\n",
      "   Ordered by: cumulative time\n",
      "   List reduced from 325 to 15 due to restriction <15>\n",
      "\n",
      "   ncalls  tottime  percall  cumtime  percall filename:lineno(function)\n",
      "        5    0.000    0.000   45.493    9.099 queues.py:391(put)\n",
      "        5    0.000    0.000   45.493    9.099 connection.py:182(send_bytes)\n",
      "       18    0.000    0.000   45.493    2.527 connection.py:284(_send_bytes)\n",
      "    49/42    0.000    0.000   45.493    1.083 {method 'GetOverlappedResult' of '_winapi.Overlapped' objects}\n",
      "        1    0.000    0.000   22.818   22.818 {built-in method builtins.exec}\n",
      "        1    0.002    0.002   22.818   22.818 <string>:1(<module>)\n",
      "        1    0.000    0.000   22.815   22.815 base.py:664(load_data)\n",
      "        1    0.000    0.000   22.814   22.814 pool.py:738(__exit__)\n",
      "       11    0.000    0.000   22.775    2.070 util.py:208(__call__)\n",
      "        1    0.000    0.000   22.775   22.775 pool.py:654(terminate)\n",
      "        1    0.000    0.000   22.775   22.775 pool.py:680(_terminate_pool)\n",
      "        1    0.000    0.000   22.749   22.749 pool.py:671(_help_stuff_finish)\n",
      "        1    0.001    0.001   22.748   22.748 {method 'acquire' of '_multiprocessing.SemLock' objects}\n",
      "      3/1    0.000    0.000   22.747   22.747 threading.py:1018(_bootstrap)\n",
      "      3/1    0.000    0.000   22.747   22.747 threading.py:1058(_bootstrap_inner)\n",
      "\n",
      "\n"
     ]
    },
    {
     "data": {
      "text/plain": [
       "<pstats.Stats at 0x1c87fa20140>"
      ]
     },
     "execution_count": 5,
     "metadata": {},
     "output_type": "execute_result"
    }
   ],
   "source": [
    "cProfile.run(\"reader.load_data(num_workers=10)\", \"newstats\")\n",
    "p = pstats.Stats(\"newstats\")\n",
    "p.strip_dirs().sort_stats(SortKey.CUMULATIVE).print_stats(15)"
   ]
  }
 ],
 "metadata": {
  "kernelspec": {
   "display_name": ".venv",
   "language": "python",
   "name": "python3"
  },
  "language_info": {
   "codemirror_mode": {
    "name": "ipython",
    "version": 3
   },
   "file_extension": ".py",
   "mimetype": "text/x-python",
   "name": "python",
   "nbconvert_exporter": "python",
   "pygments_lexer": "ipython3",
   "version": "3.12.8"
  }
 },
 "nbformat": 4,
 "nbformat_minor": 2
}
