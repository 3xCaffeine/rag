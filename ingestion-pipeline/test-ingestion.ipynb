{
 "cells": [
  {
   "cell_type": "code",
   "execution_count": 25,
   "metadata": {},
   "outputs": [],
   "source": [
    "from dotenv import load_dotenv\n",
    "import os\n",
    "from llama_index.core import (\n",
    "    VectorStoreIndex,\n",
    "    SimpleDirectoryReader,\n",
    "    StorageContext,\n",
    ")\n",
    "from llama_index.embeddings.ollama import OllamaEmbedding\n",
    "from llama_index.vector_stores.astra_db import AstraDBVectorStore\n",
    "\n",
    "from llama_index.llms.groq import Groq"
   ]
  },
  {
   "cell_type": "code",
   "execution_count": 26,
   "metadata": {},
   "outputs": [],
   "source": [
    "\n",
    "load_dotenv()\n",
    "\n",
    "astra_api_endpoint = os.getenv('ASTRA_DB_ENDPOINT')\n",
    "astra_db_token = os.getenv('ASTRA_DB_TOKEN')\n",
    "groq_api_token = os.getenv('GROQ_API_TOKEN')\n",
    "\n",
    "# Validate that all required environment variables are present\n",
    "if not all([astra_api_endpoint, astra_db_token, groq_api_token]):\n",
    "    raise ValueError(\"Missing required environment variables. Please check your .env file\")"
   ]
  },
  {
   "cell_type": "code",
   "execution_count": 27,
   "metadata": {},
   "outputs": [
    {
     "name": "stdout",
     "output_type": "stream",
     "text": [
      "Total documents: 1\n",
      "First document, id: 9e2f719c-ce9e-4b32-836f-68c9ed89d4d3\n",
      "First document, hash: 0c3c3f46cac874b495d944dfc4b920f6b68817dbbb1699ecc955d1fafb2bf87b\n",
      "First document, text (75011 characters):\n",
      "====================\n",
      "What I Worked On\n",
      "\n",
      "February 2021\n",
      "\n",
      "Before college the two main things I worked on, outside of school, were writing and programming. I didn't write essays. I wrote what beginning writers were supposed to write then, and probably still are: short stories. My stories were awful. They had hardly any plot, just characters with strong feelings, which I imagined made ...\n"
     ]
    }
   ],
   "source": [
    "# load documents\n",
    "documents = SimpleDirectoryReader(\"./data/paul_graham/\").load_data()\n",
    "print(f\"Total documents: {len(documents)}\")\n",
    "print(f\"First document, id: {documents[0].doc_id}\")\n",
    "print(f\"First document, hash: {documents[0].hash}\")\n",
    "print(\n",
    "    \"First document, text\"\n",
    "    f\" ({len(documents[0].text)} characters):\\n{'='*20}\\n{documents[0].text[:360]} ...\"\n",
    ")"
   ]
  },
  {
   "cell_type": "code",
   "execution_count": 28,
   "metadata": {},
   "outputs": [],
   "source": [
    "astra_db_store = AstraDBVectorStore(\n",
    "    token=astra_db_token,\n",
    "    api_endpoint=astra_api_endpoint,\n",
    "    collection_name=\"test_table\",\n",
    "    embedding_dimension=768,\n",
    ")"
   ]
  },
  {
   "cell_type": "code",
   "execution_count": 29,
   "metadata": {},
   "outputs": [],
   "source": [
    "embed_model = OllamaEmbedding(model_name=\"nomic-embed-text\")\n",
    "\n",
    "storage_context = StorageContext.from_defaults(vector_store=astra_db_store)\n",
    "\n",
    "index = VectorStoreIndex.from_documents(\n",
    "    documents, storage_context=storage_context, embed_model=embed_model\n",
    ")"
   ]
  },
  {
   "cell_type": "code",
   "execution_count": 30,
   "metadata": {},
   "outputs": [
    {
     "name": "stdout",
     "output_type": "stream",
     "text": [
      "<think>\n",
      "Okay, so I need to figure out why the author chose to work on AI based on the given context. Let me read through the context again to pick up the relevant details.\n",
      "\n",
      "The author mentions that when they were 18, they kept taking philosophy courses but found them boring. So they decided to switch to AI. That's one reason—philosophy wasn't holding their interest, and AI seemed more engaging.\n",
      "\n",
      "Then, the author talks about two specific influences: a novel by Heinlein called \"The Moon is a Harsh Mistress\" and a PBS documentary featuring Terry Winograd using SHRDLU. The novel had an intelligent computer named Mike, which really captivated the author. The documentary showed SHRDLU in action, making the author think that AI was just a few years away from achieving something like Mike. This made the author excited and motivated to work on AI.\n",
      "\n",
      "Additionally, the author was drawn to the potential of AI because it seemed like the future. They started teaching themselves AI by learning Lisp, which was seen as the language of AI back then. The author found Lisp to be expansive in terms of programming concepts, which further solidified their interest in AI.\n",
      "\n",
      "So, putting it all together, the author chose AI because they were inspired by science fiction (the novel and the documentary), which made AI seem imminent and exciting. They were also looking for something more engaging than philosophy and found AI, with its promising future and the challenge of creating intelligent systems like SHRDLU, to be the right path.\n",
      "</think>\n",
      "\n",
      "The author chose to work on AI because they were inspired by science fiction, particularly a novel featuring an intelligent computer and a documentary showcasing an AI program. These influences made AI seem both imminent and exciting. Additionally, AI offered a more engaging and promising field compared to philosophy, which they found boring. The challenge of creating intelligent systems like SHRDLU further motivated their decision to pursue AI.\n"
     ]
    }
   ],
   "source": [
    "\n",
    "llm = Groq(model=\"deepseek-r1-distill-llama-70b\", api_key=groq_api_token)\n",
    "\n",
    "query_engine = index.as_query_engine(llm=llm)\n",
    "response = query_engine.query(\"Why did the author choose to work on AI?\")\n",
    "\n",
    "print(response.response)"
   ]
  }
 ],
 "metadata": {
  "kernelspec": {
   "display_name": ".venv",
   "language": "python",
   "name": "python3"
  },
  "language_info": {
   "codemirror_mode": {
    "name": "ipython",
    "version": 3
   },
   "file_extension": ".py",
   "mimetype": "text/x-python",
   "name": "python",
   "nbconvert_exporter": "python",
   "pygments_lexer": "ipython3",
   "version": "3.12.8"
  }
 },
 "nbformat": 4,
 "nbformat_minor": 2
}
